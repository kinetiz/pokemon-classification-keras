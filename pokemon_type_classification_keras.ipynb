{
  "nbformat": 4,
  "nbformat_minor": 0,
  "metadata": {
    "colab": {
      "name": "pokemon-type-classification-keras.ipynb",
      "version": "0.3.2",
      "provenance": [],
      "collapsed_sections": [],
      "include_colab_link": true
    },
    "kernelspec": {
      "name": "python3",
      "display_name": "Python 3"
    }
  },
  "cells": [
    {
      "cell_type": "markdown",
      "metadata": {
        "id": "view-in-github",
        "colab_type": "text"
      },
      "source": [
        "<a href=\"https://colab.research.google.com/github/kinetiz/pokemon-classification-keras/blob/master/pokemon_type_classification_keras.ipynb\" target=\"_parent\"><img src=\"https://colab.research.google.com/assets/colab-badge.svg\" alt=\"Open In Colab\"/></a>"
      ]
    },
    {
      "metadata": {
        "id": "3RDg9bqHi8v6",
        "colab_type": "code",
        "colab": {}
      },
      "cell_type": "code",
      "source": [
        "import numpy as np\n",
        "import pandas as pd\n",
        "from keras.models import Sequential\n",
        "from keras.layers import Dense\n",
        "from keras.layers import Dropout\n",
        "from sklearn.model_selection import train_test_split\n",
        "from sklearn.preprocessing import StandardScaler"
      ],
      "execution_count": 0,
      "outputs": []
    },
    {
      "metadata": {
        "id": "syx_BIDCjI5r",
        "colab_type": "code",
        "colab": {}
      },
      "cell_type": "code",
      "source": [
        "# --- โหลดข้อมูลจาก csv\n",
        "pkm = pd.read_csv(\"pokemon.csv\")"
      ],
      "execution_count": 0,
      "outputs": []
    },
    {
      "metadata": {
        "id": "enNbuUuIjKby",
        "colab_type": "code",
        "colab": {}
      },
      "cell_type": "code",
      "source": [
        "# ส่องข้อมูล ดูว่าข้อมูลเป็นยังไง\n",
        "pkm.head()"
      ],
      "execution_count": 0,
      "outputs": []
    },
    {
      "metadata": {
        "id": "pB6ND1l_jMFR",
        "colab_type": "code",
        "colab": {}
      },
      "cell_type": "code",
      "source": [
        "# ตรวจสอบคุณภาพข้อมูล เช่น missing data, null, duplicate\n",
        "pkm.info()\n"
      ],
      "execution_count": 0,
      "outputs": []
    },
    {
      "metadata": {
        "id": "w31PYJa9jM-A",
        "colab_type": "code",
        "colab": {}
      },
      "cell_type": "code",
      "source": [
        "# เราต้องการ ทำนาย ชนิดของ pokemon จาก stats ของ pokemon เพราะงั้นเราสร้างตัวแปล pkm_stats เพื่อใช้เป็น Feature ในการทำนาย\n",
        "pkm_stats = pkm[['HP', 'Attack', 'Defense', 'Sp. Atk', 'Sp. Def', 'Speed', 'Generation', 'Legendary']]\n",
        "\n",
        "# เนื่องจากข้อมูลเป็น True / False เราต้องแปลงเป็น 0 / 1 สำหรับการเทรนโมเดล\n",
        "pkm_stats['Legendary'] = pd.get_dummies(pkm_stats['Legendary'], drop_first= True)\n",
        "\n",
        "pkm_stats.head()"
      ],
      "execution_count": 0,
      "outputs": []
    },
    {
      "metadata": {
        "id": "qr8HqgkejX5O",
        "colab_type": "code",
        "colab": {}
      },
      "cell_type": "code",
      "source": [
        "# เราต้องการทำนาย Type ของ pokemon แต่ข้อมูลดิบมาเป็น text อยู่ เราต้องแปลงเป็น label 0 หรือ 1 และ แยกจำนวน Column ตาม Type ของ pokemon\n",
        "# ซึ่งเราสามารถใช้คำสั่ง pandas.get_dummies เพื่อแปลง Categorical data เป็น Label ได้ ส่วน drop_first หมายถึง เรา drop column แรกที่เกินมา\n",
        "# เช่น [True,False,True] จะถูกแปลงเป็น 2 columns อันแรกแทน True อันสองแทน False จากข้อมูลจะได้ [(1, 0),(0, 1),(1, 0)]\n",
        "# จะเห็นว่าจริงๆ แค่ column แรกก็สามารถแยกแยะได้แล้ว เราจึง drop column ส่วนเกินอันนี้ซะเพื่อจะได้ไม่ทำให้โมเดลเราซับซ้อนโดยไม่จำเป็น\n",
        "pkm_type = pd.get_dummies(pkm[['Type 1']], drop_first=True)\n",
        "LABELS_TABLE = pd.DataFrame(pkm_type.columns.values)\n",
        "pkm_type.info()"
      ],
      "execution_count": 0,
      "outputs": []
    },
    {
      "metadata": {
        "id": "80i8pD_VjZn4",
        "colab_type": "code",
        "colab": {}
      },
      "cell_type": "code",
      "source": [
        "# ไว้ตรวจสอบว่าจำนวน row ของ feature กับ target ต้องเท่ากันนะ ไม่งั้นไม่ให้ไปต่อ\n",
        "if pkm_stats.shape[0] == pkm_type.shape[0]:\n",
        "    print(\"* * * Features and targets are compatible! :) * * *\")\n",
        "else:\n",
        "    raise(\"Data size of Features and targets are not compatible...\")\n"
      ],
      "execution_count": 0,
      "outputs": []
    },
    {
      "metadata": {
        "id": "xuP5yTpYjbss",
        "colab_type": "code",
        "colab": {}
      },
      "cell_type": "code",
      "source": [
        "# Function สำหรับเทรน Neural network \n",
        "def train(X, Y):\n",
        "    # สร้างโครง neural network\n",
        "    model = Sequential()\n",
        "    model.add(Dense(200, activation='relu', input_dim=X.shape[1]))\n",
        "    model.add(Dropout(0.8))\n",
        "    model.add(Dense(200, activation='relu'))\n",
        "    model.add(Dropout(0.8))\n",
        "    model.add(Dense(Y.shape[1], activation='softmax'))\n",
        "\n",
        "    # สร้างเสร็จแล้ว compile แล้วเลือก Loss function, เทคนิคการ optimize, metric ที่ใช้วัดคุณภาพโมเดล\n",
        "    model.compile(optimizer='rmsprop', loss='binary_crossentropy', metrics=['accuracy'])\n",
        "\n",
        "    # เทรนโมเดล fit หมายถึง สั่งโมเดลให้ฟิต label จาก data ที่ใส่ลงไป\n",
        "    model.fit(X, Y, epochs=500, batch_size=800)\n",
        "\n",
        "    return model\n"
      ],
      "execution_count": 0,
      "outputs": []
    },
    {
      "metadata": {
        "id": "OD80CWwyjjlZ",
        "colab_type": "code",
        "colab": {}
      },
      "cell_type": "code",
      "source": [
        "# แบ่งข้อมูลเป็น Training & Test set = 70/30 และ ทำให้แบ่งข้อมูลเหมือนเดิมทุกครั้งด้วยการ set random state\n",
        "xtr, xts, ytr, yts = train_test_split(pkm_stats, pkm_type, test_size=0.3, random_state=1)\n",
        "\n",
        "# เตรียมข้อมูลอีกชุดแบบ standardise แล้วไว้เทียบผลกันว่าแบบไหนดีกว่า\n",
        "scaler = StandardScaler().fit(xtr.values)\n",
        "sxtr = scaler.transform(xtr.values)\n",
        "sxts = scaler.transform(xts.values)"
      ],
      "execution_count": 0,
      "outputs": []
    },
    {
      "metadata": {
        "id": "XngvVFGMjp6d",
        "colab_type": "code",
        "colab": {}
      },
      "cell_type": "code",
      "source": [
        "# เตรียมข้อมูลในโครงสร้างที่ใช้สำหรับเทรน Neural Network ต้องแปลงเป็น numpy array ใช้ .values ง่ายๆ เลย\n",
        "model1 = train(X=xtr.values, Y=ytr.values)"
      ],
      "execution_count": 0,
      "outputs": []
    },
    {
      "metadata": {
        "id": "E_zosc9ljtWq",
        "colab_type": "code",
        "colab": {}
      },
      "cell_type": "code",
      "source": [
        "# เทรนโมเดลที่สองด้วยข้อมูลที่ standardised แล้ว\n",
        "model2 = train(X=sxtr, Y=ytr.values)"
      ],
      "execution_count": 0,
      "outputs": []
    },
    {
      "metadata": {
        "id": "2m25apUoj0_R",
        "colab_type": "code",
        "colab": {}
      },
      "cell_type": "code",
      "source": [
        "print('===== non-standardised data =====')\n",
        "# วัคความแม่นโมเดลด้วยข้อมูลที่ใช้เทรน หรือ Training data\n",
        "print('Evaluate with Training data: {}'.format(model1.evaluate(xtr, ytr)))\n",
        "\n",
        "# วัดผลด้วย Test data\n",
        "print('Evaluate with Test data: {}'.format(model1.evaluate(xts, yts)))\n"
      ],
      "execution_count": 0,
      "outputs": []
    },
    {
      "metadata": {
        "id": "IqTWh9lgj2AZ",
        "colab_type": "code",
        "colab": {}
      },
      "cell_type": "code",
      "source": [
        "print('===== Standardised data =====')\n",
        "# วัคความแม่นโมเดลด้วยข้อมูลที่ใช้เทรน หรือ Training data\n",
        "print('Evaluate with Training data: {}'.format(model2.evaluate(sxtr, ytr)))\n",
        "\n",
        "# วัดผลด้วย Test data\n",
        "print('Evaluate with Test data: {}'.format(model2.evaluate(sxts, yts)))"
      ],
      "execution_count": 0,
      "outputs": []
    },
    {
      "metadata": {
        "id": "GOdzbY9mj6oF",
        "colab_type": "code",
        "colab": {}
      },
      "cell_type": "code",
      "source": [
        "# # แปะ type ที่ทำนายไว้ไฟล์ csv เพื่อเทียบผล\n",
        "# predicted_class = model.predict_classes(data)\n",
        "# lab_predicted_class = [LABELS_TABLE.at[i,0][7:] for i in predicted_class ]\n",
        "# pkm['Pred_Type1'] = lab_predicted_class\n",
        "# pkm.to_csv('predicted_pokemon.csv')"
      ],
      "execution_count": 0,
      "outputs": []
    }
  ]
}